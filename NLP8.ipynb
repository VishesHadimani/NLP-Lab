{
 "cells": [
  {
   "cell_type": "code",
   "execution_count": 5,
   "metadata": {},
   "outputs": [
    {
     "name": "stderr",
     "output_type": "stream",
     "text": [
      "[nltk_data] Downloading package wordnet to\n",
      "[nltk_data]     C:\\Users\\Sahyadri\\AppData\\Roaming\\nltk_data...\n",
      "[nltk_data]   Package wordnet is already up-to-date!\n",
      "[nltk_data] Downloading package omw-1.4 to\n",
      "[nltk_data]     C:\\Users\\Sahyadri\\AppData\\Roaming\\nltk_data...\n",
      "[nltk_data]   Package omw-1.4 is already up-to-date!\n"
     ]
    },
    {
     "name": "stdout",
     "output_type": "stream",
     "text": [
      "Synonyms of 'good': {'thoroughly', 'full', 'unspoiled', 'salutary', 'safe', 'respectable', 'serious', 'honest', 'trade_good', 'honorable', 'upright', 'dear', 'sound', 'undecomposed', 'adept', 'right', 'expert', 'skillful', 'near', 'soundly', 'skilful', 'estimable', 'good', 'goodness', 'commodity', 'proficient', 'unspoilt', 'secure', 'practiced', 'well', 'effective', 'in_effect', 'beneficial', 'ripe', 'dependable', 'in_force', 'just'}\n",
      "Antonyms of 'good': {'evilness', 'badness', 'bad', 'ill', 'evil'}\n"
     ]
    }
   ],
   "source": [
    "import nltk\n",
    "from nltk.corpus import wordnet\n",
    "\n",
    "# Download the WordNet data\n",
    "nltk.download('wordnet')\n",
    "nltk.download('omw-1.4')\n",
    "\n",
    "def get_synonyms_antonyms(word):\n",
    "    synonyms = []\n",
    "    antonyms = []\n",
    "    \n",
    "    for syn in wordnet.synsets(word):\n",
    "        for lemma in syn.lemmas():\n",
    "            synonyms.append(lemma.name())\n",
    "            if lemma.antonyms():\n",
    "                antonyms.append(lemma.antonyms()[0].name())\n",
    "    \n",
    "    # Remove duplicates\n",
    "    synonyms = set(synonyms)\n",
    "    antonyms = set(antonyms)\n",
    "    \n",
    "    return synonyms, antonyms\n",
    "\n",
    "# Example usage\n",
    "word = input(\"Enter the word: \")\n",
    "synonyms, antonyms = get_synonyms_antonyms(word)\n",
    "\n",
    "print(f\"Synonyms of '{word}': {synonyms}\")\n",
    "print(f\"Antonyms of '{word}': {antonyms}\")\n"
   ]
  }
 ],
 "metadata": {
  "kernelspec": {
   "display_name": "Python 3",
   "language": "python",
   "name": "python3"
  },
  "language_info": {
   "codemirror_mode": {
    "name": "ipython",
    "version": 3
   },
   "file_extension": ".py",
   "mimetype": "text/x-python",
   "name": "python",
   "nbconvert_exporter": "python",
   "pygments_lexer": "ipython3",
   "version": "3.11.5"
  }
 },
 "nbformat": 4,
 "nbformat_minor": 2
}
